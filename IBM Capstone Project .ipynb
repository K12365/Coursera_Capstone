{
 "cells": [
  {
   "cell_type": "markdown",
   "metadata": {},
   "source": [
    "# IBM Capstone Project \n",
    "## Where shall I expand my fruit shop to: Toronto or London?\n",
    "### Introduction - The Business Problem\n",
    "\n",
    "One of our clients has multiple success fruit shops within New York and is seeking to expand their business Internationally.  The client would like to either expand their business to Toronto or London, and open multiple shops in the new city.  \n",
    "\n",
    "The client knows that the neighbourhoods their shops are located in in New York are the most likely to return high profits.  The client would like to know whether to Toronto or London has more neighbourhoods which are similar to the neighbourhoods their shops are located in in New York.  This will inform their decision on where to open the shops. \n",
    "\n",
    "\n",
    "**The aim of this project is therefore to identify whether London or Toronto have more neighbourhoods which are similar to the neighbourhoods that the clients shops are currently located in in New York.**\n",
    "\n",
    "### Planned Data Usage\n",
    "\n",
    "In order to conduct this analysis, I will need access neighbourhood datasets for New York, Toronto and London.  I will also need acces to the longitude and latitude for each of these neighbourhoods.  This will be obtained using the following websites: \n",
    "1. **New York**\n",
    "    + Post Codes: https://cocl.us/new_york_dataset\n",
    "    + Locations: https://cocl.us/new_york_dataset\n",
    "2. **Toronto**\n",
    "    + Post Codes: https://en.wikipedia.org/w/index.php?title=List_of_postal_codes_of_Canada:_M&oldid=945633050.\n",
    "    + Locations: http://cocl.us/Geospatial_data\n",
    "3.  **London**\n",
    "    + Post Codes: https://en.wikipedia.org/wiki/List_of_postcode_areas_in_the_United_Kingdom (multiple links from this) \n",
    "    + Locations: https://www.freemaptools.com/download-uk-postcode-lat-lng.htm (will average accross each postcode within a region)\n",
    "\n",
    "I will also need access to data which in some way helps to categorise the types of neighbourhoods.  This will be achieved by using https://foursquare.com/ to identify the most common venue types within each neighbourhood. \n",
    "\n",
    "I would have liked to conduct analysis on the types of people that live in each neighbourhood (e.g. shopping habits - Amazon, viewing habits - Netflix), but this type of data is not freely available.  \n",
    "\n",
    "In reality, there are multiple other factors that would need to be taken into account before making this decision, such as availablity of stock and costs.  However, in this report I will only focus on identifying which city would be best based on the number of similar neighbourhoods. "
   ]
  }
 ],
 "metadata": {
  "kernelspec": {
   "display_name": "Python 3",
   "language": "python",
   "name": "python3"
  },
  "language_info": {
   "codemirror_mode": {
    "name": "ipython",
    "version": 3
   },
   "file_extension": ".py",
   "mimetype": "text/x-python",
   "name": "python",
   "nbconvert_exporter": "python",
   "pygments_lexer": "ipython3",
   "version": "3.7.3"
  }
 },
 "nbformat": 4,
 "nbformat_minor": 2
}
